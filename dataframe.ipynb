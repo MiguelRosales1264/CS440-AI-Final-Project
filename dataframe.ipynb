{
 "cells": [
  {
   "cell_type": "markdown",
   "metadata": {},
   "source": [
    "# Setup and Initial Data Handling"
   ]
  },
  {
   "cell_type": "markdown",
   "metadata": {},
   "source": [
    "## Import the data "
   ]
  },
  {
   "cell_type": "code",
   "execution_count": 14,
   "metadata": {},
   "outputs": [
    {
     "data": {
      "text/html": [
       "<div>\n",
       "<style scoped>\n",
       "    .dataframe tbody tr th:only-of-type {\n",
       "        vertical-align: middle;\n",
       "    }\n",
       "\n",
       "    .dataframe tbody tr th {\n",
       "        vertical-align: top;\n",
       "    }\n",
       "\n",
       "    .dataframe thead th {\n",
       "        text-align: right;\n",
       "    }\n",
       "</style>\n",
       "<table border=\"1\" class=\"dataframe\">\n",
       "  <thead>\n",
       "    <tr style=\"text-align: right;\">\n",
       "      <th></th>\n",
       "      <th>id</th>\n",
       "      <th>embedding</th>\n",
       "      <th>metadata</th>\n",
       "      <th>document</th>\n",
       "    </tr>\n",
       "  </thead>\n",
       "  <tbody>\n",
       "    <tr>\n",
       "      <th>0</th>\n",
       "      <td>chunk_57169</td>\n",
       "      <td>[-0.03923165, -0.0016832227, 0.014283108, -0.0...</td>\n",
       "      <td>{'chunkTitle': 'Muscle Hypertrophy', 'episodeT...</td>\n",
       "      <td>Andrew Huberman: And that leads me to a questi...</td>\n",
       "    </tr>\n",
       "    <tr>\n",
       "      <th>1</th>\n",
       "      <td>chunk_57178</td>\n",
       "      <td>[-0.02918509, -0.018408643, 0.017951787, -0.03...</td>\n",
       "      <td>{'chunkTitle': 'Hypertrophy Training Overview'...</td>\n",
       "      <td>Andrew Huberman: So as you point out before an...</td>\n",
       "    </tr>\n",
       "    <tr>\n",
       "      <th>2</th>\n",
       "      <td>chunk_57177</td>\n",
       "      <td>[-0.030115174, -0.01321885, 0.02527428, -0.005...</td>\n",
       "      <td>{'chunkTitle': 'Fitness and Hypertrophy', 'epi...</td>\n",
       "      <td>Andy Galpin: Sure. So we have a lot less infor...</td>\n",
       "    </tr>\n",
       "    <tr>\n",
       "      <th>3</th>\n",
       "      <td>chunk_57176</td>\n",
       "      <td>[-0.028269125, 0.006626837, 0.022055835, -0.00...</td>\n",
       "      <td>{'chunkTitle': 'Cardio and Hypertrophy', 'epis...</td>\n",
       "      <td>Andrew Huberman: How do other forms of exercis...</td>\n",
       "    </tr>\n",
       "    <tr>\n",
       "      <th>4</th>\n",
       "      <td>chunk_57175</td>\n",
       "      <td>[-0.025013695, 0.00445241, 0.029148076, -0.009...</td>\n",
       "      <td>{'chunkTitle': 'Indicators and Adjustments', '...</td>\n",
       "      <td>Andy Galpin: You could also look at things lik...</td>\n",
       "    </tr>\n",
       "  </tbody>\n",
       "</table>\n",
       "</div>"
      ],
      "text/plain": [
       "            id                                          embedding  \\\n",
       "0  chunk_57169  [-0.03923165, -0.0016832227, 0.014283108, -0.0...   \n",
       "1  chunk_57178  [-0.02918509, -0.018408643, 0.017951787, -0.03...   \n",
       "2  chunk_57177  [-0.030115174, -0.01321885, 0.02527428, -0.005...   \n",
       "3  chunk_57176  [-0.028269125, 0.006626837, 0.022055835, -0.00...   \n",
       "4  chunk_57175  [-0.025013695, 0.00445241, 0.029148076, -0.009...   \n",
       "\n",
       "                                            metadata  \\\n",
       "0  {'chunkTitle': 'Muscle Hypertrophy', 'episodeT...   \n",
       "1  {'chunkTitle': 'Hypertrophy Training Overview'...   \n",
       "2  {'chunkTitle': 'Fitness and Hypertrophy', 'epi...   \n",
       "3  {'chunkTitle': 'Cardio and Hypertrophy', 'epis...   \n",
       "4  {'chunkTitle': 'Indicators and Adjustments', '...   \n",
       "\n",
       "                                            document  \n",
       "0  Andrew Huberman: And that leads me to a questi...  \n",
       "1  Andrew Huberman: So as you point out before an...  \n",
       "2  Andy Galpin: Sure. So we have a lot less infor...  \n",
       "3  Andrew Huberman: How do other forms of exercis...  \n",
       "4  Andy Galpin: You could also look at things lik...  "
      ]
     },
     "execution_count": 14,
     "metadata": {},
     "output_type": "execute_result"
    }
   ],
   "source": [
    "import pandas as pd\n",
    "\n",
    "df = pd.read_parquet(\"hf://datasets/dexaai/huberman_on_exercise/data/data-00000-of-00001-8e5e40fbf9236004.parquet\")\n",
    "df.head()"
   ]
  },
  {
   "cell_type": "markdown",
   "metadata": {},
   "source": [
    "## Remove Embedding and Preprocess Data"
   ]
  },
  {
   "cell_type": "markdown",
   "metadata": {},
   "source": [
    "### Clean data"
   ]
  },
  {
   "cell_type": "code",
   "execution_count": 15,
   "metadata": {},
   "outputs": [
    {
     "data": {
      "text/html": [
       "<div>\n",
       "<style scoped>\n",
       "    .dataframe tbody tr th:only-of-type {\n",
       "        vertical-align: middle;\n",
       "    }\n",
       "\n",
       "    .dataframe tbody tr th {\n",
       "        vertical-align: top;\n",
       "    }\n",
       "\n",
       "    .dataframe thead th {\n",
       "        text-align: right;\n",
       "    }\n",
       "</style>\n",
       "<table border=\"1\" class=\"dataframe\">\n",
       "  <thead>\n",
       "    <tr style=\"text-align: right;\">\n",
       "      <th></th>\n",
       "      <th>id</th>\n",
       "      <th>metadata</th>\n",
       "      <th>document</th>\n",
       "    </tr>\n",
       "  </thead>\n",
       "  <tbody>\n",
       "    <tr>\n",
       "      <th>0</th>\n",
       "      <td>chunk_57169</td>\n",
       "      <td>{'chunkTitle': 'Muscle Hypertrophy', 'episodeT...</td>\n",
       "      <td>Andrew Huberman: And that leads me to a questi...</td>\n",
       "    </tr>\n",
       "    <tr>\n",
       "      <th>1</th>\n",
       "      <td>chunk_57178</td>\n",
       "      <td>{'chunkTitle': 'Hypertrophy Training Overview'...</td>\n",
       "      <td>Andrew Huberman: So as you point out before an...</td>\n",
       "    </tr>\n",
       "    <tr>\n",
       "      <th>2</th>\n",
       "      <td>chunk_57177</td>\n",
       "      <td>{'chunkTitle': 'Fitness and Hypertrophy', 'epi...</td>\n",
       "      <td>Andy Galpin: Sure. So we have a lot less infor...</td>\n",
       "    </tr>\n",
       "    <tr>\n",
       "      <th>3</th>\n",
       "      <td>chunk_57176</td>\n",
       "      <td>{'chunkTitle': 'Cardio and Hypertrophy', 'epis...</td>\n",
       "      <td>Andrew Huberman: How do other forms of exercis...</td>\n",
       "    </tr>\n",
       "    <tr>\n",
       "      <th>4</th>\n",
       "      <td>chunk_57175</td>\n",
       "      <td>{'chunkTitle': 'Indicators and Adjustments', '...</td>\n",
       "      <td>Andy Galpin: You could also look at things lik...</td>\n",
       "    </tr>\n",
       "  </tbody>\n",
       "</table>\n",
       "</div>"
      ],
      "text/plain": [
       "            id                                           metadata  \\\n",
       "0  chunk_57169  {'chunkTitle': 'Muscle Hypertrophy', 'episodeT...   \n",
       "1  chunk_57178  {'chunkTitle': 'Hypertrophy Training Overview'...   \n",
       "2  chunk_57177  {'chunkTitle': 'Fitness and Hypertrophy', 'epi...   \n",
       "3  chunk_57176  {'chunkTitle': 'Cardio and Hypertrophy', 'epis...   \n",
       "4  chunk_57175  {'chunkTitle': 'Indicators and Adjustments', '...   \n",
       "\n",
       "                                            document  \n",
       "0  Andrew Huberman: And that leads me to a questi...  \n",
       "1  Andrew Huberman: So as you point out before an...  \n",
       "2  Andy Galpin: Sure. So we have a lot less infor...  \n",
       "3  Andrew Huberman: How do other forms of exercis...  \n",
       "4  Andy Galpin: You could also look at things lik...  "
      ]
     },
     "execution_count": 15,
     "metadata": {},
     "output_type": "execute_result"
    }
   ],
   "source": [
    "# Remove Second Column (Embedding)\n",
    "df = df.drop(columns=['embedding'])\n",
    "df.head()"
   ]
  },
  {
   "cell_type": "code",
   "execution_count": 18,
   "metadata": {},
   "outputs": [
    {
     "data": {
      "text/html": [
       "<div>\n",
       "<style scoped>\n",
       "    .dataframe tbody tr th:only-of-type {\n",
       "        vertical-align: middle;\n",
       "    }\n",
       "\n",
       "    .dataframe tbody tr th {\n",
       "        vertical-align: top;\n",
       "    }\n",
       "\n",
       "    .dataframe thead th {\n",
       "        text-align: right;\n",
       "    }\n",
       "</style>\n",
       "<table border=\"1\" class=\"dataframe\">\n",
       "  <thead>\n",
       "    <tr style=\"text-align: right;\">\n",
       "      <th></th>\n",
       "      <th>id</th>\n",
       "      <th>metadata</th>\n",
       "      <th>document</th>\n",
       "    </tr>\n",
       "  </thead>\n",
       "  <tbody>\n",
       "    <tr>\n",
       "      <th>0</th>\n",
       "      <td>chunk_57169</td>\n",
       "      <td>{'chunkTitle': 'Muscle Hypertrophy', 'episodeT...</td>\n",
       "      <td>andrew huberman and that leads me to a questio...</td>\n",
       "    </tr>\n",
       "    <tr>\n",
       "      <th>1</th>\n",
       "      <td>chunk_57178</td>\n",
       "      <td>{'chunkTitle': 'Hypertrophy Training Overview'...</td>\n",
       "      <td>andrew huberman so as you point out before and...</td>\n",
       "    </tr>\n",
       "    <tr>\n",
       "      <th>2</th>\n",
       "      <td>chunk_57177</td>\n",
       "      <td>{'chunkTitle': 'Fitness and Hypertrophy', 'epi...</td>\n",
       "      <td>andy galpin sure so we have a lot less informa...</td>\n",
       "    </tr>\n",
       "    <tr>\n",
       "      <th>3</th>\n",
       "      <td>chunk_57176</td>\n",
       "      <td>{'chunkTitle': 'Cardio and Hypertrophy', 'epis...</td>\n",
       "      <td>andrew huberman how do other forms of exercise...</td>\n",
       "    </tr>\n",
       "    <tr>\n",
       "      <th>4</th>\n",
       "      <td>chunk_57175</td>\n",
       "      <td>{'chunkTitle': 'Indicators and Adjustments', '...</td>\n",
       "      <td>andy galpin you could also look at things like...</td>\n",
       "    </tr>\n",
       "  </tbody>\n",
       "</table>\n",
       "</div>"
      ],
      "text/plain": [
       "            id                                           metadata  \\\n",
       "0  chunk_57169  {'chunkTitle': 'Muscle Hypertrophy', 'episodeT...   \n",
       "1  chunk_57178  {'chunkTitle': 'Hypertrophy Training Overview'...   \n",
       "2  chunk_57177  {'chunkTitle': 'Fitness and Hypertrophy', 'epi...   \n",
       "3  chunk_57176  {'chunkTitle': 'Cardio and Hypertrophy', 'epis...   \n",
       "4  chunk_57175  {'chunkTitle': 'Indicators and Adjustments', '...   \n",
       "\n",
       "                                            document  \n",
       "0  andrew huberman and that leads me to a questio...  \n",
       "1  andrew huberman so as you point out before and...  \n",
       "2  andy galpin sure so we have a lot less informa...  \n",
       "3  andrew huberman how do other forms of exercise...  \n",
       "4  andy galpin you could also look at things like...  "
      ]
     },
     "execution_count": 18,
     "metadata": {},
     "output_type": "execute_result"
    }
   ],
   "source": [
    "import re\n",
    "df['document'] = df['document'].apply(lambda x: re.sub(r'[^\\w\\s]', '', x.lower()))\n",
    "df.head()"
   ]
  },
  {
   "cell_type": "markdown",
   "metadata": {},
   "source": [
    "### Tokenize Data"
   ]
  },
  {
   "cell_type": "code",
   "execution_count": null,
   "metadata": {},
   "outputs": [],
   "source": []
  }
 ],
 "metadata": {
  "kernelspec": {
   "display_name": "base",
   "language": "python",
   "name": "python3"
  },
  "language_info": {
   "codemirror_mode": {
    "name": "ipython",
    "version": 3
   },
   "file_extension": ".py",
   "mimetype": "text/x-python",
   "name": "python",
   "nbconvert_exporter": "python",
   "pygments_lexer": "ipython3",
   "version": "3.12.7"
  }
 },
 "nbformat": 4,
 "nbformat_minor": 2
}
